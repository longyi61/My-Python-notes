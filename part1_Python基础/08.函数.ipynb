{
 "cells": [
  {
   "cell_type": "markdown",
   "metadata": {},
   "source": [
    "### 函数\n",
    "- 对功能或者动作的封装\n",
    "def 函数名(形参列表):\n",
    "    函数体(代码块, return)\n",
    "调用:\n",
    "函数名(实参列表)\n"
   ]
  },
  {
   "cell_type": "markdown",
   "metadata": {},
   "source": [
    "### 返回值\n",
    "- return, 可以终止函数的运行\n",
    "- 如果函数什么都不写, 不写return, 没有返回值,得到None\n",
    "- 在函数中间或者末尾写return, 返回的是None\n",
    "- 在函数中写return 值, 返回一个值\n",
    "- 函数可以返回多个值, return 值1, 值2,..., 接受的是元组(不可变)"
   ]
  },
  {
   "cell_type": "markdown",
   "metadata": {},
   "source": [
    "### 参数\n",
    "- 函数执行的时候给函数传递信息\n",
    "- 在函数声明的位置的变量: 形参(变量)\n",
    "    - 默认值参数必须在最后\n",
    "- 在函数调用的地方给的具体的值: 实参(值)\n",
    "    - 位置参数: 按照形参位置传值\n",
    "    - 关键字参数: 按照形参名字传值\n",
    "    - 混合参数\n",
    "- 把实参交给形参的过程: 传参\n",
    "- 动态传参:\n",
    "    - * 表示接收元组, 相当于一个聚合过程\n",
    "        - * list: 打散, 把list, tuple, set, str 进行迭代打散\n",
    "    - ** 表示接收字典(关键字传参)\n",
    "    - 顺序:位置参数->* args->默认值参数->** kwargs"
   ]
  }
 ],
 "metadata": {
  "kernelspec": {
   "display_name": "Python 3",
   "language": "python",
   "name": "python3"
  },
  "language_info": {
   "codemirror_mode": {
    "name": "ipython",
    "version": 3
   },
   "file_extension": ".py",
   "mimetype": "text/x-python",
   "name": "python",
   "nbconvert_exporter": "python",
   "pygments_lexer": "ipython3",
   "version": "3.7.1"
  }
 },
 "nbformat": 4,
 "nbformat_minor": 2
}
