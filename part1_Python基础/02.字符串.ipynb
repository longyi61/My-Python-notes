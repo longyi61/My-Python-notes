{
 "cells": [
  {
   "cell_type": "markdown",
   "metadata": {},
   "source": [
    "### 字符串基本操作\n",
    "- s.capitalize() 一句话首字母大写\n",
    "- s.title() 被特殊字符隔开的首字母大写（包括中文、空格）\n",
    "- s.upper()\n",
    "- s.lower()\n",
    "- s.casefold() 转小写（对所有字母有效），.lower()对某些字母不支持\n",
    "- s.swapcase() 大小写互换\n",
    "- s.center(10,\" * \") 拉长成10，原字符放中间，其余位置补 *\n",
    "- s.strip() 去空格\n",
    "    - s.strip('b') 也可去掉左右两端指定内容，中间不管\n",
    "- s.lstrip(); s.rstrip()\n",
    "- s.replace('A','B') 用B去换A（后面的换前面的）\n",
    "    - s.replace(\" \",\"\") 用空字符串换空格：去掉字符串中的所有空格\n",
    "    - replace(self,old,new,count=None)\n",
    "- s.split(\" _ \") 刀是 _ ，切完以字符串形式放列表里面，刀没了。注：沿边切出空字符串（切割符在左右两端）"
   ]
  },
  {
   "cell_type": "markdown",
   "metadata": {},
   "source": [
    "### 字符串格式化输出\n",
    "- xxx{1}xxx{0}.format(xx =    ,xx =    )\n",
    "    - 可指定位置、指定变量\n",
    "- s = \"我叫{0}，今年{2}岁了，我喜欢{1}”.format(\"周杰伦\",\"周润发\",28) # 指定位置\n",
    "- s = \"我叫{name}，今年{age}岁了，我喜欢{singer}”.format(singer = \"周杰伦\",name = \"周润发\",age = 28) # 指定关键字"
   ]
  },
  {
   "cell_type": "code",
   "execution_count": 3,
   "metadata": {},
   "outputs": [
    {
     "name": "stdout",
     "output_type": "stream",
     "text": [
      "我叫周杰伦，今年28岁了，我喜欢周润发\n",
      "我叫周润发，今年28岁了，我喜欢周杰伦\n"
     ]
    }
   ],
   "source": [
    "s1 = \"我叫{0}，今年{2}岁了，我喜欢{1}\".format(\"周杰伦\",\"周润发\",28)# 指定位置\n",
    "s2 = \"我叫{name}，今年{age}岁了，我喜欢{singer}\".format(singer = \"周杰伦\",name = \"周润发\",age = 28) # 指定关键字\n",
    "print(s1)\n",
    "print(s2)"
   ]
  },
  {
   "cell_type": "markdown",
   "metadata": {},
   "source": [
    "### 字符串查找\n",
    "- s.startswith() 判断字符串是否以xx开头 return True or False\n",
    "- s.endswith() 判断字符串是否以xx结尾\n",
    "- s.count('a') 计算字符串中a出现的次数\n",
    "- s.find('a') 找到a对应的位置（出现的第一个，找到即返回；若原字符串中没有，返回-1）\n",
    "    - s.find('a',3,5) 在指定范围内查找\n",
    "- s.index() index中的内容如果不存在，直接报错"
   ]
  },
  {
   "cell_type": "markdown",
   "metadata": {},
   "source": [
    "### 条件判断\n",
    "- s.isalnum() 是否由字母和数字组成\n",
    "- s.isalpha() 是否由字母组成\n",
    "- 判断是否由数字组成（不包括小数点）：\n",
    "    - s.isdigit()\n",
    "    - s.isdecimal()\n",
    "    - s.isnumeric() 可识别汉字（一、壹等，不认识“两”）"
   ]
  },
  {
   "cell_type": "code",
   "execution_count": 5,
   "metadata": {},
   "outputs": [
    {
     "name": "stdout",
     "output_type": "stream",
     "text": [
      "Please enter a number to determine whether it is a decimal: -123.12\n",
      "是小数\n"
     ]
    }
   ],
   "source": [
    "# 练习. 用算法判断某一个字符串是否是小数；s1 = \"-123.12\"\n",
    "s1 = input(\"Please enter a number to determine whether it is a decimal: \")\n",
    "s1 = s1.replace('-',\"\") # 去除负号\n",
    "if s1.isdigit():\n",
    "    print(\"是整数\")\n",
    "else:\n",
    "    if s1.count(\".\") == 1 and not s1.startswith(\".\") and not s1.endswith(\".\"):\n",
    "        print(\"是小数\")\n",
    "    else:\n",
    "        print(\"不是小数\")\n",
    "    "
   ]
  },
  {
   "cell_type": "markdown",
   "metadata": {},
   "source": [
    "### 计算字符串长度\n",
    "- len() 内置函数\n",
    "- s. __ len __ () 也可求长度\n",
    "    - len()执行时就是执行它"
   ]
  }
 ],
 "metadata": {
  "kernelspec": {
   "display_name": "Python 3",
   "language": "python",
   "name": "python3"
  },
  "language_info": {
   "codemirror_mode": {
    "name": "ipython",
    "version": 3
   },
   "file_extension": ".py",
   "mimetype": "text/x-python",
   "name": "python",
   "nbconvert_exporter": "python",
   "pygments_lexer": "ipython3",
   "version": "3.7.1"
  }
 },
 "nbformat": 4,
 "nbformat_minor": 2
}
