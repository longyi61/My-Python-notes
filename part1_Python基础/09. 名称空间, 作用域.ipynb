{
 "cells": [
  {
   "cell_type": "code",
   "execution_count": null,
   "metadata": {},
   "outputs": [],
   "source": [
    "a = 10 # 全局名称空间中的内容\n",
    "\n",
    "def fn(): # fn也在全局名称空间\n",
    "    b = 20 # 局部名称空间, 调用fn时才有b\n",
    "    print(a) \n",
    "def gn():\n",
    "    print(a)\n",
    "fn()\n",
    "gn()"
   ]
  },
  {
   "cell_type": "markdown",
   "metadata": {},
   "source": [
    "### 作用域\n",
    "- 全局作用域: 全局命名空间+内置命名空间\n",
    "    - 整个文件的任何位置都可以使用(从上到下逐行执行)\n",
    "- 局部作用域: 局部命名空间\n",
    "    - 在函数内部可以使用\n",
    "- print(globals())\n",
    "- print(locals())"
   ]
  },
  {
   "cell_type": "markdown",
   "metadata": {},
   "source": [
    "#### global和nonlocal"
   ]
  },
  {
   "cell_type": "code",
   "execution_count": 1,
   "metadata": {},
   "outputs": [
    {
     "name": "stdout",
     "output_type": "stream",
     "text": [
      "10\n"
     ]
    }
   ],
   "source": [
    "\n",
    "a = 10\n",
    "def func():\n",
    "    a = 20\n",
    "func() # func()执行完,a = 20 就没了\n",
    "print(a) # 10"
   ]
  },
  {
   "cell_type": "code",
   "execution_count": null,
   "metadata": {},
   "outputs": [],
   "source": [
    "a = 10 # 全局变量本身就是不安全的, 不能随意修改\n",
    "def func():\n",
    "    global a # 1. 把全局中的内容引入函数内部; 2. 在全局创建一个变量\n",
    "    a = 20\n",
    "    # 在访问func之后吧全局中的a换成20\n",
    "func()\n",
    "print(a)"
   ]
  },
  {
   "cell_type": "code",
   "execution_count": 2,
   "metadata": {},
   "outputs": [
    {
     "name": "stdout",
     "output_type": "stream",
     "text": [
      "10\n"
     ]
    }
   ],
   "source": [
    "def outer():\n",
    "    a = 10\n",
    "    def inner():\n",
    "        a = 20 # 不能改outer的a\n",
    "    inner()\n",
    "    print(a)\n",
    "outer() # 10"
   ]
  },
  {
   "cell_type": "code",
   "execution_count": 3,
   "metadata": {},
   "outputs": [
    {
     "name": "stdout",
     "output_type": "stream",
     "text": [
      "20\n"
     ]
    }
   ],
   "source": [
    "def outer():\n",
    "    a = 10\n",
    "    def inner(): # 在inner中改变a的值\n",
    "        nonlocal a # 寻找外层函数中理她最近的那个变量,找不到全局中\n",
    "        a = 20 \n",
    "    inner()\n",
    "    print(a)\n",
    "outer() # 20"
   ]
  }
 ],
 "metadata": {
  "kernelspec": {
   "display_name": "Python 3",
   "language": "python",
   "name": "python3"
  },
  "language_info": {
   "codemirror_mode": {
    "name": "ipython",
    "version": 3
   },
   "file_extension": ".py",
   "mimetype": "text/x-python",
   "name": "python",
   "nbconvert_exporter": "python",
   "pygments_lexer": "ipython3",
   "version": "3.7.1"
  }
 },
 "nbformat": 4,
 "nbformat_minor": 2
}
