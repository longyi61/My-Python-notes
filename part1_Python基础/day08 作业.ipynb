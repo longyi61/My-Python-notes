{
 "cells": [
  {
   "cell_type": "code",
   "execution_count": 2,
   "metadata": {},
   "outputs": [
    {
     "name": "stdout",
     "output_type": "stream",
     "text": [
      "请输入一个三位数: 153\n",
      "是水仙花数\n"
     ]
    }
   ],
   "source": [
    "# 判断一个数是否为水仙花数(三位数的每一位的三次方的和还等于这个数)\n",
    "num = input('请输入一个三位数: ')\n",
    "s = 0\n",
    "for c in num:\n",
    "    s = int(c)**3+s\n",
    "if int(num) == s:\n",
    "    print('是水仙花数')\n",
    "else:\n",
    "    print('不是水仙花数')"
   ]
  },
  {
   "cell_type": "code",
   "execution_count": 5,
   "metadata": {},
   "outputs": [
    {
     "name": "stdout",
     "output_type": "stream",
     "text": [
      "{33, 34, 35, 2, 12, 16, 27}\n"
     ]
    }
   ],
   "source": [
    "# 从36个数中随机产生7个数,最终获取的7个不同的数作为开奖结果\n",
    "from random import randint\n",
    "# randint(1,36) # 1~36 的随机数\n",
    "s = set()\n",
    "while len(s) < 7:\n",
    "    r = randint(1,36)\n",
    "    s.add(r)\n",
    "print(s)"
   ]
  },
  {
   "cell_type": "code",
   "execution_count": 1,
   "metadata": {},
   "outputs": [
    {
     "name": "stdout",
     "output_type": "stream",
     "text": [
      "[1, 2, 4, 5, 5, 6, 6, 7]\n"
     ]
    }
   ],
   "source": [
    "# 给出一个纯数字列表，对其排序(冒泡排序)\n",
    "# 思路：\n",
    "# 1.完成a，b数据交换,a,b = b,a\n",
    "# 2.循环列表，判断a[i]和a[i+1]之间的大小关系，若a[i]大则交换\n",
    "lst = [6,5,7,1,2,6,4,5]\n",
    "count = 0\n",
    "while count < len(lst): # 控制循环次数\n",
    "    i = 0\n",
    "    while i < len(lst) - 1:\n",
    "        if lst[i] > lst[i+1]:\n",
    "            lst[i],lst[i+1] = lst[i+1],lst[i]\n",
    "        i = i+1\n",
    "    count = count+1\n",
    "print(lst)"
   ]
  },
  {
   "cell_type": "code",
   "execution_count": null,
   "metadata": {},
   "outputs": [],
   "source": []
  }
 ],
 "metadata": {
  "kernelspec": {
   "display_name": "Python 3",
   "language": "python",
   "name": "python3"
  },
  "language_info": {
   "codemirror_mode": {
    "name": "ipython",
    "version": 3
   },
   "file_extension": ".py",
   "mimetype": "text/x-python",
   "name": "python",
   "nbconvert_exporter": "python",
   "pygments_lexer": "ipython3",
   "version": "3.7.1"
  }
 },
 "nbformat": 4,
 "nbformat_minor": 2
}
