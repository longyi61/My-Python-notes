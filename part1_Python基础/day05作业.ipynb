{
 "cells": [
  {
   "cell_type": "markdown",
   "metadata": {},
   "source": [
    "### 例：把班级学生数学成绩录入到一个列表中，并求平均值。要求：录入的时候要带着姓名和成绩，例如：张三_44"
   ]
  },
  {
   "cell_type": "code",
   "execution_count": null,
   "metadata": {},
   "outputs": [],
   "source": [
    "#录入\n",
    "lst = []\n",
    "while 1:\n",
    "    stu = input('请输入学生的姓名和成绩（姓名_成绩），输入Q退出录入：')\n",
    "    if stu.upper() == ‘Q’:\n",
    "        break\n",
    "    lst.append(stu)\n",
    "print(lst)\n",
    "\n",
    "#求平均值\n",
    "for el in lst:\n",
    "    li = el.split('_')\n",
    "    sum += int(li[1])\n",
    "    average = sum/len(lst)\n",
    "print(average)"
   ]
  }
 ],
 "metadata": {
  "kernelspec": {
   "display_name": "Python 3",
   "language": "python",
   "name": "python3"
  },
  "language_info": {
   "codemirror_mode": {
    "name": "ipython",
    "version": 3
   },
   "file_extension": ".py",
   "mimetype": "text/x-python",
   "name": "python",
   "nbconvert_exporter": "python",
   "pygments_lexer": "ipython3",
   "version": "3.7.1"
  }
 },
 "nbformat": 4,
 "nbformat_minor": 2
}
