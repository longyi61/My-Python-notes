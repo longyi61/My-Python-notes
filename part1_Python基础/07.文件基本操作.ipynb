{
 "cells": [
  {
   "cell_type": "markdown",
   "metadata": {},
   "source": [
    "### 文件操作的函数\n",
    "- f = open(文件名(路径),mode = '?',encoding = '字符集'),打开后记得close\n",
    "- 文件路径:\n",
    "    - 绝对路径:从磁盘的根目录找(互联网网址,下图片)\n",
    "    - 相对路径:相对于当前程序所在的文件夹  ../代表上一层文件夹(传代码更容易)\n",
    "### 文件操作\n",
    "- 只读(r,rb), b:byte\n",
    "- 只写(w,wb)\n",
    "- 追加(a,ab)\n",
    "- r+读写\n",
    "- w+写读\n",
    "- a+写读(追加写读)"
   ]
  },
  {
   "cell_type": "code",
   "execution_count": 6,
   "metadata": {},
   "outputs": [
    {
     "name": "stdout",
     "output_type": "stream",
     "text": [
      "床前明月光\n",
      "疑是地上霜\n",
      "举头望明月\n",
      "我叫郭德纲"
     ]
    }
   ],
   "source": [
    "f = open(\"呵呵呵.txt\",mode = \"r\",encoding = \"gbk\") #文本文件多为gbk,此处utf-8报错\n",
    "s = f.readline() # 一次读一行, 列表\n",
    "print(s,end='')\n",
    "s = f.readline().strip()\n",
    "print(s)\n",
    "s = f.readline() \n",
    "print(s,end='')\n",
    "s = f.readline() \n",
    "print(s,end='')\n",
    "f.close()"
   ]
  },
  {
   "cell_type": "code",
   "execution_count": null,
   "metadata": {},
   "outputs": [],
   "source": [
    "f = open(\"呵呵呵.txt\",mode = \"r\",encoding = \"gbk\") \n",
    "while 1:\n",
    "    s = f.readline().strip()\n",
    "    if s != '':\n",
    "        print(s,end='') #程序一直在跑,可实现类似监听的效果\n",
    "f.close()"
   ]
  },
  {
   "cell_type": "code",
   "execution_count": 7,
   "metadata": {
    "scrolled": true
   },
   "outputs": [
    {
     "name": "stdout",
     "output_type": "stream",
     "text": [
      "床前明月光\n",
      "疑是地上霜\n",
      "举头望明月\n",
      "我叫郭德纲"
     ]
    }
   ],
   "source": [
    "with open(\"呵呵呵.txt\",mode = \"r\",encoding = \"gbk\") as f:\n",
    "    for line in f: # 文件是可迭代对象\n",
    "        print(line,end='') #一行一行处理数据"
   ]
  },
  {
   "cell_type": "markdown",
   "metadata": {},
   "source": [
    "- 带w的,只要操作就会清空源文件,如果文件不存在会自动创建"
   ]
  },
  {
   "cell_type": "code",
   "execution_count": 15,
   "metadata": {},
   "outputs": [],
   "source": [
    "# w模式\n",
    "with open('阿西吧',mode='w',encoding='utf-8') as f:\n",
    "    f.write('呀!躺够了没有?\\n')\n",
    "    f.write('simiii\\n')\n",
    "    f.flush() # 刷新缓冲区\n",
    "    f.close()\n",
    "# a模式\n",
    "# 写的时候,换行需要手动控制 \\n\n",
    "f = open('阿西吧',mode='a',encoding='utf-8')\n",
    "f.write(\"思密达\\n\")\n",
    "f.write('simida\\n')\n",
    "f.flush()\n",
    "f.close()"
   ]
  },
  {
   "cell_type": "markdown",
   "metadata": {},
   "source": [
    "### 带b的"
   ]
  },
  {
   "cell_type": "code",
   "execution_count": null,
   "metadata": {},
   "outputs": [],
   "source": [
    "# rb,wb,ab,bytes 如果处理的是非文本文件(比如图片), mode里面如果有b, 就不能给encoding\n",
    "f = open('c:/pdd.jpg',mode='rb') # 这里不能写encoding\n",
    "e = open('e:/pdd.jpg',mode='wb')\n",
    "for line in f: # 从c盘读取 line你是不知道读取了多少数据的\n",
    "    e.write(line) # 写入e盘\n",
    "f.close()\n",
    "e.flush()\n",
    "e.close()   "
   ]
  },
  {
   "cell_type": "markdown",
   "metadata": {},
   "source": [
    "### 带+的"
   ]
  },
  {
   "cell_type": "markdown",
   "metadata": {},
   "source": [
    "- r+: 不论读取多少内容,不论光标在哪,写入的时候都是在结尾写入\n",
    "     - 最好用的读写同时存在的模式"
   ]
  },
  {
   "cell_type": "code",
   "execution_count": 2,
   "metadata": {},
   "outputs": [
    {
     "name": "stdout",
     "output_type": "stream",
     "text": [
      "呀!躺\n"
     ]
    }
   ],
   "source": [
    "f = open('阿西吧',mode='r+',encoding='utf-8')\n",
    "s = f.read(3) # 读取三个字符\n",
    "print(s)\n",
    "f.write('不养了,送人') #在末尾写\n",
    "f.close()"
   ]
  },
  {
   "cell_type": "code",
   "execution_count": 3,
   "metadata": {},
   "outputs": [
    {
     "name": "stdout",
     "output_type": "stream",
     "text": [
      "读取的内容是:  于谦烫头\n"
     ]
    }
   ],
   "source": [
    "# w+很少用,会清空文件中的内容\n",
    "f = open('w+_test',mode = 'w+',encoding = 'utf-8')\n",
    "f.write('于谦烫头') # 写完之后光标在最后,读取是没有内容的\n",
    "f.seek(0) # 移动光标\n",
    "s = f.read()\n",
    "print('读取的内容是: ',s)\n",
    "f.flush()\n",
    "f.close()"
   ]
  },
  {
   "cell_type": "code",
   "execution_count": 5,
   "metadata": {},
   "outputs": [
    {
     "name": "stdout",
     "output_type": "stream",
     "text": [
      "我要加入德云社我要加入德云社\n"
     ]
    }
   ],
   "source": [
    "# a+\n",
    "f = open('a+_test',mode = 'a+',encoding = 'utf-8')\n",
    "f.write('我要加入德云社')\n",
    "f.seek(0)\n",
    "s = f.read()\n",
    "print(s)\n",
    "f.flush()\n",
    "f.close()"
   ]
  },
  {
   "cell_type": "markdown",
   "metadata": {},
   "source": [
    "- seek(n), 光标移动到n位置\n",
    "- 移动的单位是byte, 所以如果是utf-8的中文部分要是3的倍数(3byte -> 1个文字)\n",
    "- 移动到开头: seek(0)\n",
    "- 移动到结尾seek(0,2) seek的第二个参数表示从哪个位置进行偏移,默认是0,表示开头;1表当前位置;2表结尾\n",
    "- tell(), 获取到当前光标在什么位置\n",
    "- truncate(), 截断文件,默认从文件开头截断到光标位置, 后面内容被干掉\n",
    "- truncate(n), 从头截断到参数n位置"
   ]
  },
  {
   "cell_type": "code",
   "execution_count": null,
   "metadata": {},
   "outputs": [],
   "source": [
    "# seek() 可用于反复读取文件\n",
    "f = open('阿西吧',mode = 'r',encoding = 'utf-8')\n",
    "for line in f:\n",
    "    print(line.strip())\n",
    "\n",
    "f.seek(0) # 移动到开头\n",
    "\n",
    "for line in f:\n",
    "    print(line.strip())\n",
    "\n",
    "f.close()"
   ]
  },
  {
   "cell_type": "code",
   "execution_count": null,
   "metadata": {},
   "outputs": [],
   "source": [
    "# truncate()\n",
    "f = open(\"小娃娃\",mode=\"w\",encoding=\"utf-8\")\n",
    "f.write(\"哈哈\") # 写入两个字符\n",
    "f.seek(3) # 光标移动到两个字符之间\n",
    "f.truncate() # 删掉光标后所有内容\n",
    "f.close()"
   ]
  },
  {
   "cell_type": "markdown",
   "metadata": {},
   "source": [
    "### 修改文件及另一种打开文件的方式"
   ]
  },
  {
   "cell_type": "code",
   "execution_count": 9,
   "metadata": {},
   "outputs": [
    {
     "name": "stdout",
     "output_type": "stream",
     "text": [
      "[{'id': '1', 'name': 'alex', 'phone_number': '10086', 'car': '特斯拉', 'home': '于辛庄', 'salary': '5000000'}, {'id': '2', 'name': 'wusir', 'phone_number': '10010', 'car': '五菱宏光', 'home': '青年', 'salary': '40000'}, {'id': '3', 'name': 'taibai', 'phone_number': '10000', 'car': '摩拜单车', 'home': '松兰堡', 'salary': '30000'}, {'id': '4', 'name': 'ritian', 'phone_number': '12345', 'car': '小黄车', 'home': '广东', 'salary': '20000'}]\n"
     ]
    }
   ],
   "source": [
    "# 转化文件\n",
    "lst = []\n",
    "with open(\"2019-08-18.txt\",mode=\"r\",encoding=\"gbk\") as f:\n",
    "    header = f.readline().strip().split(\",\")\n",
    "    for line in f:\n",
    "        dic = {} # 每一行一个字典\n",
    "        # 1,alex,10086,特斯拉\n",
    "        ls = line.strip().split(\",\")\n",
    "        for i in range(len(header)):\n",
    "            dic[header[i]] = ls[i]\n",
    "        lst.append(dic)\n",
    "print(lst)"
   ]
  },
  {
   "cell_type": "code",
   "execution_count": null,
   "metadata": {},
   "outputs": [],
   "source": []
  }
 ],
 "metadata": {
  "kernelspec": {
   "display_name": "Python 3",
   "language": "python",
   "name": "python3"
  },
  "language_info": {
   "codemirror_mode": {
    "name": "ipython",
    "version": 3
   },
   "file_extension": ".py",
   "mimetype": "text/x-python",
   "name": "python",
   "nbconvert_exporter": "python",
   "pygments_lexer": "ipython3",
   "version": "3.7.1"
  }
 },
 "nbformat": 4,
 "nbformat_minor": 2
}
