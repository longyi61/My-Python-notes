{
 "cells": [
  {
   "cell_type": "markdown",
   "metadata": {},
   "source": [
    "## 元组\n",
    "- 只读列表，不可修改\n",
    "- 使用()表示元组"
   ]
  },
  {
   "cell_type": "markdown",
   "metadata": {},
   "source": [
    "- tu = (3,) # 元组中如果只有一个元素，需要在括号里写一个,\n",
    "- tu = tuple() # 空元组"
   ]
  },
  {
   "cell_type": "code",
   "execution_count": null,
   "metadata": {},
   "outputs": [],
   "source": [
    "tu = ('人民币','美元','英镑','欧元') # 可以装任何数据类型\n",
    "# 元组不可变，元组里的列表可变\n",
    "t = ('how are you','alex')\n",
    "t[1].upper() # 可\n",
    "t[1] = t[1].upper() # 不可；元组的第一层元素不可变，内部元素没有要求"
   ]
  },
  {
   "cell_type": "markdown",
   "metadata": {},
   "source": [
    "### range\n",
    "- range() 是一个可迭代对象\n",
    "- range(n) 0 -> n-1\n",
    "- range(a,b,n) a -> b-1 ,每隔n"
   ]
  },
  {
   "cell_type": "code",
   "execution_count": 2,
   "metadata": {},
   "outputs": [
    {
     "name": "stdout",
     "output_type": "stream",
     "text": [
      "0\n",
      "1\n",
      "2\n",
      "3\n",
      "0 砂锅\n",
      "1 米线\n",
      "2 炒饭\n",
      "3 刀削面\n",
      "4 煎饼\n",
      "5 火锅\n"
     ]
    }
   ],
   "source": [
    "for i in range(4):\n",
    "    print(i)\n",
    "lst = ['砂锅','米线','炒饭','刀削面','煎饼','火锅']\n",
    "# 获取到列表的索引\n",
    "for i in range(len(lst)):\n",
    "    print(i,lst[i]) # i 就是列表的索引"
   ]
  },
  {
   "cell_type": "code",
   "execution_count": null,
   "metadata": {},
   "outputs": [],
   "source": []
  }
 ],
 "metadata": {
  "kernelspec": {
   "display_name": "Python 3",
   "language": "python",
   "name": "python3"
  },
  "language_info": {
   "codemirror_mode": {
    "name": "ipython",
    "version": 3
   },
   "file_extension": ".py",
   "mimetype": "text/x-python",
   "name": "python",
   "nbconvert_exporter": "python",
   "pygments_lexer": "ipython3",
   "version": "3.7.1"
  }
 },
 "nbformat": 4,
 "nbformat_minor": 2
}
