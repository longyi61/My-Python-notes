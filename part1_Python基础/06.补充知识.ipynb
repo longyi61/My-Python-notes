{
 "cells": [
  {
   "cell_type": "markdown",
   "metadata": {},
   "source": [
    "- join(), 把列表转换成字符串"
   ]
  },
  {
   "cell_type": "markdown",
   "metadata": {},
   "source": [
    "### 小数据池\n",
    "- 数字：-5~256   只要数值同，地址相同\n",
    "    - pycharm内范围更大\n",
    "- 字符串中有特殊字符：地址不同\n",
    "- 字符串中单个乘20以内（含20），地址相同，* 21以上，地址不同"
   ]
  },
  {
   "cell_type": "markdown",
   "metadata": {},
   "source": [
    "### 列表与字典的循环删除（大坑）\n",
    "- 把要删除的内容记录下来，然后循环记录，删除列表\n",
    "- 列表和字典都不能在循环时进行删除(列表1,3,5删,2,4,6剩;字典报错),字典在循环自身时不能改变大小"
   ]
  },
  {
   "cell_type": "code",
   "execution_count": 2,
   "metadata": {},
   "outputs": [
    {
     "name": "stdout",
     "output_type": "stream",
     "text": [
      "删除前:  ['汪峰', '张怡宁', '张国荣', '张常宁']\n",
      "删除后:  ['汪峰']\n"
     ]
    }
   ],
   "source": [
    "#删除所有姓张的\n",
    "lst = ['汪峰','张怡宁','张国荣','张常宁']\n",
    "print('删除前: ',lst)\n",
    "zhangs = []\n",
    "for people in lst:\n",
    "    if people.startswith('张'):\n",
    "        zhangs.append(people)\n",
    "for zhang in zhangs:\n",
    "    lst.remove(zhang)\n",
    "print('删除后: ',lst)"
   ]
  },
  {
   "cell_type": "code",
   "execution_count": 8,
   "metadata": {},
   "outputs": [
    {
     "name": "stdout",
     "output_type": "stream",
     "text": [
      "{'o': '橘子', 'r': '橘子', 'a': '橘子', 'n': '橘子', 'g': '橘子', 'e': '橘子'}\n",
      "{'a': ['哈哈', '呵呵', '嘻嘻'], 'b': ['哈哈', '呵呵', '嘻嘻'], 'c': ['哈哈', '呵呵', '嘻嘻']}\n"
     ]
    }
   ],
   "source": [
    "# .fromkeys()\n",
    "# 直接用字典访问fromkeys(),不对字典产生影响\n",
    "# 正确用法:\n",
    "ret = dict.fromkeys('orange','橘子') #返回新字典,直接用类名进行访问\n",
    "print(ret)\n",
    "a = ['哈哈','呵呵','嘻嘻']\n",
    "ret = dict.fromkeys('abc', a) # 上面的a变了,这里的字典也会变(共享)\n",
    "print(ret)"
   ]
  },
  {
   "cell_type": "markdown",
   "metadata": {},
   "source": [
    "### 集合\n",
    "- set中的元素:不重复,无序,可hash(不可变)\n",
    "- 类似不存value的字典\n",
    "- 可用于去重\n",
    "- 集合中的数据没有索引\n",
    "- 可迭代\n",
    "#### 集合常用操作\n",
    "- 交集 s1 & s2, s1.intersection(s2)\n",
    "- 并集 s1 | s2, s1.union(s2)\n",
    "- 差集 s1 - s2, s1.difference(s2) # 得到单独存在s1中的元素\n",
    "- 反交集 s1 ^ s2, s1.symmetric_difference(s2)\n",
    "- 子集 s1 < s2, s1.issubset(s2)\n",
    "- 超集 s1 > s2, s1.issuperet(s2)"
   ]
  },
  {
   "cell_type": "markdown",
   "metadata": {},
   "source": [
    "### 深浅拷贝\n",
    "- 赋值:没有创建新对象,两个变量指向同一个对象\n",
    "- 浅拷贝:拷贝第一层内容,创建了新对象 [:], copy()\n",
    "- 深拷贝:拷贝所有和当前对象相关联的内容, deepcopy()"
   ]
  }
 ],
 "metadata": {
  "kernelspec": {
   "display_name": "Python 3",
   "language": "python",
   "name": "python3"
  },
  "language_info": {
   "codemirror_mode": {
    "name": "ipython",
    "version": 3
   },
   "file_extension": ".py",
   "mimetype": "text/x-python",
   "name": "python",
   "nbconvert_exporter": "python",
   "pygments_lexer": "ipython3",
   "version": "3.7.1"
  }
 },
 "nbformat": 4,
 "nbformat_minor": 2
}
