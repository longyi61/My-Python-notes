{
 "cells": [
  {
   "cell_type": "markdown",
   "metadata": {},
   "source": [
    "### 列表的索引和切片\n",
    "- 列表和字符串一样，也有索引和切片，只不过切出来的内容是列表\n",
    "- 索引的下标从0开始\n",
    "- [起始位置：结束位置：步长]"
   ]
  },
  {
   "cell_type": "code",
   "execution_count": 4,
   "metadata": {},
   "outputs": [
    {
     "name": "stdout",
     "output_type": "stream",
     "text": [
      "尖\n",
      "穹顶之下\n",
      "['奥特曼', '咒怨', '舌尖上的中国']\n",
      "['舌尖上的中国', '穹顶之下']\n",
      "['奥特曼', '舌尖上的中国', '金刚']\n",
      "['金刚', '舌尖上的中国']\n"
     ]
    }
   ],
   "source": [
    "# 切片索引\n",
    "lst = [\"海上钢琴师\",\"奥特曼\",\"咒怨\",\"舌尖上的中国\",\"穹顶之下\",\"金刚\"]\n",
    "print(lst[3][1]) # 尖\n",
    "print(lst[-2]) # 穹顶之下\n",
    "print(lst[1:4]) # ['奥特曼', '咒怨', '舌尖上的中国']\n",
    "print(lst[-3:-1]) # ['舌尖上的中国', '穹顶之下']\n",
    "print(lst[1::2]) # ['奥特曼', '舌尖上的中国', '金刚']\n",
    "print(lst[-1:-5:-2]) # ['金刚', '舌尖上的中国']"
   ]
  },
  {
   "cell_type": "markdown",
   "metadata": {},
   "source": [
    "## 列表的增删改查\n",
    "### 增加\n",
    "    - l.append() 加到末尾，一次加一个元素，可通过列表形式批量添加\n",
    "    - l.insert(index，元素) 在xxx位置插入xxx内容；效率低\n",
    "    - l.extend() 迭代添加,加到后面，一次加一个元素可通过列表形式批量添加\n"
   ]
  },
  {
   "cell_type": "code",
   "execution_count": 14,
   "metadata": {},
   "outputs": [
    {
     "name": "stdout",
     "output_type": "stream",
     "text": [
      "['赵四', '施瓦辛格', '烧包谷', '大头', '大洋芋']\n",
      "['赵四', '王力宏', '施瓦辛格', '烧包谷', '大头', '大洋芋']\n",
      "['赵四', '王力宏', '施瓦辛格', '烧包谷', '大头', '大洋芋', '麻', '花', '藤']\n",
      "['赵四', '王力宏', '施瓦辛格', '烧包谷', '大头', '大洋芋', '麻', '花', '藤', '麻花藤', '鸡公煲']\n"
     ]
    },
    {
     "ename": "TypeError",
     "evalue": "extend() takes exactly one argument (2 given)",
     "output_type": "error",
     "traceback": [
      "\u001b[1;31m---------------------------------------------------------------------------\u001b[0m",
      "\u001b[1;31mTypeError\u001b[0m                                 Traceback (most recent call last)",
      "\u001b[1;32m<ipython-input-14-1b1671b5c03a>\u001b[0m in \u001b[0;36m<module>\u001b[1;34m\u001b[0m\n\u001b[0;32m      8\u001b[0m \u001b[0mlst\u001b[0m\u001b[1;33m.\u001b[0m\u001b[0mextend\u001b[0m\u001b[1;33m(\u001b[0m\u001b[1;33m[\u001b[0m\u001b[1;34m\"麻花藤\"\u001b[0m\u001b[1;33m,\u001b[0m\u001b[1;34m\"鸡公煲\"\u001b[0m\u001b[1;33m]\u001b[0m\u001b[1;33m)\u001b[0m\u001b[1;33m\u001b[0m\u001b[1;33m\u001b[0m\u001b[0m\n\u001b[0;32m      9\u001b[0m \u001b[0mprint\u001b[0m\u001b[1;33m(\u001b[0m\u001b[0mlst\u001b[0m\u001b[1;33m)\u001b[0m\u001b[1;33m\u001b[0m\u001b[1;33m\u001b[0m\u001b[0m\n\u001b[1;32m---> 10\u001b[1;33m \u001b[0mlst\u001b[0m\u001b[1;33m.\u001b[0m\u001b[0mextend\u001b[0m\u001b[1;33m(\u001b[0m\u001b[1;34m\"麻花藤\"\u001b[0m\u001b[1;33m,\u001b[0m\u001b[1;34m\"鸡公煲\"\u001b[0m\u001b[1;33m)\u001b[0m\u001b[1;33m\u001b[0m\u001b[1;33m\u001b[0m\u001b[0m\n\u001b[0m",
      "\u001b[1;31mTypeError\u001b[0m: extend() takes exactly one argument (2 given)"
     ]
    }
   ],
   "source": [
    "lst = [\"赵四\",\"施瓦辛格\",\"烧包谷\",\"大头\"]\n",
    "lst.append(\"大洋芋\") # 在原有基础上进行的操作\n",
    "print(lst) # ['赵四', '施瓦辛格', '烧包谷', '大头', '大洋芋']\n",
    "lst.insert(1,\"王力宏\")\n",
    "print(lst) # ['赵四', '王力宏', '施瓦辛格', '烧包谷', '大头', '大洋芋']\n",
    "lst.extend(\"麻花藤\")\n",
    "print(lst) # ['赵四', '王力宏', '施瓦辛格', '烧包谷', '大头', '大洋芋', '麻', '花', '藤']\n",
    "lst.extend([\"麻花藤\",\"鸡公煲\"])\n",
    "print(lst) # ['赵四', '王力宏', '施瓦辛格', '烧包谷', '大头', '大洋芋', '麻', '花', '藤', '麻花藤', '鸡公煲']\n",
    "lst.extend(\"麻花藤\",\"鸡公煲\") # 报错"
   ]
  },
  {
   "cell_type": "code",
   "execution_count": 13,
   "metadata": {},
   "outputs": [
    {
     "name": "stdout",
     "output_type": "stream",
     "text": [
      "['赵四', '施瓦辛格', '黄渤', '烧包谷', '大头', ['麻花藤', '鸡公煲']]\n"
     ]
    }
   ],
   "source": [
    "lst = [\"赵四\",\"施瓦辛格\",\"黄渤\",\"烧包谷\",\"大头\"]\n",
    "lst.append([\"麻花藤\",\"鸡公煲\"])\n",
    "print(lst) # ['赵四', '施瓦辛格', '黄渤', '烧包谷', '大头', ['麻花藤', '鸡公煲']]"
   ]
  },
  {
   "cell_type": "markdown",
   "metadata": {},
   "source": [
    "### 删除\n",
    "    - l.pop(index) 返回被删除的数据，指定位置，默认删最后一个\n",
    "    - l.remove(元素) 指定内容，无返回值，如果不存在会报错\n",
    "    - del lst[1:3] 可切片删；del lst[1]\n",
    "    - l.clear() 清空列表"
   ]
  },
  {
   "cell_type": "code",
   "execution_count": 18,
   "metadata": {},
   "outputs": [
    {
     "name": "stdout",
     "output_type": "stream",
     "text": [
      "['扫雷', '魔兽世界', 'DNF', '逆水寒', '反恐精英']\n",
      "['扫雷', '跑跑卡丁车', '逆水寒', '反恐精英']\n"
     ]
    }
   ],
   "source": [
    "### 改:先删后加\n",
    "lst = [\"王者农药\",\"魔兽世界\",\"DNF\",\"逆水寒\",\"反恐精英\"]\n",
    "lst[0] = \"扫雷\"\n",
    "print(lst) # ['扫雷', '魔兽世界', 'DNF', '逆水寒', '反恐精英']\n",
    "# lst[1:3] = \"跑跑卡丁车\"\n",
    "# print(lst) \n",
    "lst[1:3] = [\"跑跑卡丁车\"]\n",
    "print(lst) # ['扫雷', '跑跑卡丁车', '逆水寒', '反恐精英']"
   ]
  },
  {
   "cell_type": "code",
   "execution_count": 22,
   "metadata": {},
   "outputs": [
    {
     "name": "stdout",
     "output_type": "stream",
     "text": [
      "['王者农药', 'QQ华夏', 'DNF', 'QQ三国', '反恐精英']\n"
     ]
    }
   ],
   "source": [
    "lst = [\"王者农药\",\"魔兽世界\",\"DNF\",\"逆水寒\",\"反恐精英\"]\n",
    "lst[1::2] = [\"QQ华夏\",\"QQ三国\"] # 切片修改时，如果步长不是1，注意元素个数\n",
    "print(lst)"
   ]
  },
  {
   "cell_type": "markdown",
   "metadata": {},
   "source": [
    "### 查询\n",
    "- 通过for循环\n",
    "- for el in lst: # element\n",
    "      print(el)"
   ]
  },
  {
   "cell_type": "markdown",
   "metadata": {},
   "source": [
    "### 列表的嵌套\n",
    "- 一层一层翻"
   ]
  },
  {
   "cell_type": "code",
   "execution_count": 28,
   "metadata": {},
   "outputs": [
    {
     "name": "stdout",
     "output_type": "stream",
     "text": [
      "火锅\n",
      "['alex', 'amy', 'mike', ['john', 'sheldon', [100, '火锅', 'GGL', '凤爪'], 'penny']]\n"
     ]
    }
   ],
   "source": [
    "lst = ['alex','amy','mike',['john','sheldon',[1,'火锅','ggl','凤爪'],'penny']]\n",
    "print(lst[3][2][1]) # 火锅\n",
    "lst[3][2][2] = lst[3][2][2].upper()\n",
    "lst[3][2][0] = 100\n",
    "print(lst)"
   ]
  },
  {
   "cell_type": "markdown",
   "metadata": {},
   "source": [
    "### 列表常用操作\n",
    "- l.count() 计数\n",
    "- l.sort()\n",
    "    - l.sort(reverse = True)\n",
    "- l.reverse() 翻转列表"
   ]
  }
 ],
 "metadata": {
  "kernelspec": {
   "display_name": "Python 3",
   "language": "python",
   "name": "python3"
  },
  "language_info": {
   "codemirror_mode": {
    "name": "ipython",
    "version": 3
   },
   "file_extension": ".py",
   "mimetype": "text/x-python",
   "name": "python",
   "nbconvert_exporter": "python",
   "pygments_lexer": "ipython3",
   "version": "3.7.1"
  }
 },
 "nbformat": 4,
 "nbformat_minor": 2
}
