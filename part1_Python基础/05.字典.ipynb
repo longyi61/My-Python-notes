{
 "cells": [
  {
   "cell_type": "markdown",
   "metadata": {},
   "source": [
    "### 字典的基本知识\n",
    "- 用大括号{}括起来，内部使用key：value的形式来保存数据\n",
    "- 注意：字典的key必须是可哈希的，不可变的（不可变的就是可哈希的，可变的内存地址会变）"
   ]
  },
  {
   "cell_type": "markdown",
   "metadata": {},
   "source": [
    "### 字典的相关操作\n",
    "\n"
   ]
  },
  {
   "cell_type": "code",
   "execution_count": 2,
   "metadata": {},
   "outputs": [
    {
     "name": "stdout",
     "output_type": "stream",
     "text": [
      "{'Jay': '周杰伦', 'JJ': '林俊杰', 'Eason': '陈奕迅'}\n"
     ]
    }
   ],
   "source": [
    "# 增加\n",
    "dic = {'Jay':'周杰伦'}\n",
    "dic['JJ'] = '林俊杰'\n",
    "dic['JJ'] = '嗷嗷' # 如果key重复了，会替换掉原来的内容\n",
    "dic.setdefault('Eason','陈奕迅')\n",
    "dic.setdefault('Eason','ddd') # 如果字典中已经包含了这个key，不再继续保存\n",
    "print(dic)"
   ]
  },
  {
   "cell_type": "code",
   "execution_count": null,
   "metadata": {},
   "outputs": [],
   "source": [
    "# 删除\n",
    "ret = dic.pop('Jay')\n",
    "print(ret) # 返回value\n",
    "\n",
    "del dic['Jay']\n",
    "\n",
    "# 随机删除\n",
    "ret = dic.popitem() # 返回键值对（元组形式）\n",
    "\n",
    "# 清空\n",
    "dic.clear()"
   ]
  },
  {
   "cell_type": "code",
   "execution_count": 5,
   "metadata": {},
   "outputs": [
    {
     "name": "stdout",
     "output_type": "stream",
     "text": [
      "剑圣\n",
      "笑死了\n"
     ]
    }
   ],
   "source": [
    "# 查询\n",
    "dic = {'及时雨':'宋江','小李广':'花荣','黑旋风':'李逵','易大师':'剑圣'}\n",
    "dic[\"大宝剑\"] = \"盖伦\" # 新增\n",
    "dic[\"及时雨\"] = \"天老爷\" # 修改\n",
    "print(dic[\"易大师\"]) # 查询，key不在，报错\n",
    "print(dic.get(\"易大师哈哈哈\",\"笑死了\")) # key不在，返回None或设定值"
   ]
  },
  {
   "cell_type": "code",
   "execution_count": 9,
   "metadata": {},
   "outputs": [
    {
     "name": "stdout",
     "output_type": "stream",
     "text": [
      "宋江\n",
      "hello\n",
      "{'及时雨': '宋江', '小李广': '花荣', '黑旋风': '李逵', '易大师': '剑圣', '诺手': '诺克萨斯', '及时雨123': 'hello'}\n"
     ]
    }
   ],
   "source": [
    "# dic.setdefault()\n",
    "dic = {'及时雨':'宋江','小李广':'花荣','黑旋风':'李逵','易大师':'剑圣'}\n",
    "dic.setdefault('诺手','诺克萨斯') # 添加\n",
    "ret = dic.setdefault('及时雨')\n",
    "print(ret)\n",
    "ret1 = dic.setdefault('及时雨123','hello')\n",
    "print(ret1)\n",
    "print(dic)"
   ]
  },
  {
   "cell_type": "code",
   "execution_count": null,
   "metadata": {},
   "outputs": [],
   "source": []
  }
 ],
 "metadata": {
  "kernelspec": {
   "display_name": "Python 3",
   "language": "python",
   "name": "python3"
  },
  "language_info": {
   "codemirror_mode": {
    "name": "ipython",
    "version": 3
   },
   "file_extension": ".py",
   "mimetype": "text/x-python",
   "name": "python",
   "nbconvert_exporter": "python",
   "pygments_lexer": "ipython3",
   "version": "3.7.1"
  }
 },
 "nbformat": 4,
 "nbformat_minor": 2
}
