{
 "cells": [
  {
   "cell_type": "code",
   "execution_count": 2,
   "metadata": {},
   "outputs": [
    {
     "name": "stdout",
     "output_type": "stream",
     "text": [
      "<function func at 0x000002189EB347B8>\n",
      "<function func at 0x000002189EB347B8>\n",
      "This is a function.\n"
     ]
    }
   ],
   "source": [
    "# 函数名\n",
    "def func():\n",
    "    print(\"This is a function.\")\n",
    "print(func)\n",
    "a = func # 函数名其实就是变量\n",
    "print(a)\n",
    "a()"
   ]
  },
  {
   "cell_type": "code",
   "execution_count": 3,
   "metadata": {},
   "outputs": [
    {
     "name": "stdout",
     "output_type": "stream",
     "text": [
      "处理后\n",
      "hello, world!\n",
      "处理前\n"
     ]
    }
   ],
   "source": [
    "# 函数名可以作为参数传递给函数\n",
    "def my():\n",
    "    print(\"hello, world!\")\n",
    "def proxy(fn): # 代理模式, 装饰器\n",
    "    print(\"处理后\")\n",
    "    fn()\n",
    "    print(\"处理前\")\n",
    "proxy(my) # 把函数名作为参数传递给另一个函数"
   ]
  },
  {
   "cell_type": "markdown",
   "metadata": {},
   "source": [
    "### 闭包\n",
    "- 在内层函数中访问外层函数的变量\n",
    "- 闭包的作用:\n",
    "    - 1. 保护变量不受侵害\n",
    "    - 2. 可以让一个变量常驻内存\n"
   ]
  },
  {
   "cell_type": "code",
   "execution_count": null,
   "metadata": {},
   "outputs": [],
   "source": [
    "# 闭包\n",
    "def outer():\n",
    "    a = 10 # 对外界不开放\n",
    "    def inner():\n",
    "        nonlocal a\n",
    "        print(a)\n",
    "    inner()\n",
    "outer()"
   ]
  }
 ],
 "metadata": {
  "kernelspec": {
   "display_name": "Python 3",
   "language": "python",
   "name": "python3"
  },
  "language_info": {
   "codemirror_mode": {
    "name": "ipython",
    "version": 3
   },
   "file_extension": ".py",
   "mimetype": "text/x-python",
   "name": "python",
   "nbconvert_exporter": "python",
   "pygments_lexer": "ipython3",
   "version": "3.7.1"
  }
 },
 "nbformat": 4,
 "nbformat_minor": 2
}
