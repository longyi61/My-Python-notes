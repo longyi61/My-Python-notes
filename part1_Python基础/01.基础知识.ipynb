{
 "cells": [
  {
   "cell_type": "markdown",
   "metadata": {},
   "source": [
    "### 逻辑运算\n",
    "- 运算顺序：not and or\n",
    "    - print(1 and 2) # 2\n",
    "    - print(1 or 2) # 1\n",
    "    - print(0 and 1) # 0\n",
    "    - print(0 or 1) # 1"
   ]
  },
  {
   "cell_type": "markdown",
   "metadata": {},
   "source": [
    "### 编码知识\n",
    "- **最早**的计算机编码：**ASCII**，美国人创建。（包含英文字母（大小写），数字，标点等特殊字符!@#$%）\n",
    "    - 128个码位 2 ** 7 在此基础上加了一位 2 ** 8=256，最多表示256个字符，最前面一位是0\n",
    "    - 8位 1个字节\n",
    "- **GBK(ANSI)**：国标码 16位 2个字节（双字节字符）\n",
    "- **Unicode**：万国码 usc-2 16位 2个字节  升级： ucs-4 32位 4个字节（含中文）\n",
    "- **utf-8**：可变长度编码 英文：8bit 1个字节；欧洲文字：16bit 2个字节；中文：24bit 3个字节"
   ]
  },
  {
   "cell_type": "markdown",
   "metadata": {},
   "source": [
    "### 基本数据类型之int,bool\n",
    "- **bit_length()**.计算整数在内存中占用的二进制码的长度\n",
    "- bool类型的转换\n",
    "    - 0：False; 非0：True"
   ]
  },
  {
   "cell_type": "markdown",
   "metadata": {},
   "source": [
    "### 基本数据类型的概述\n",
    "- int 整数\n",
    "- str 字符串，存储少量的数据\n",
    "- bool 布尔\n",
    "- list 列表\n",
    "- tuple 元组，只读列表，不能修改\n",
    "- dict 字典，一对一对的存储数据，key:value\n",
    "- set 集合，存储不重复的内容"
   ]
  },
  {
   "cell_type": "markdown",
   "metadata": {},
   "source": []
  }
 ],
 "metadata": {
  "kernelspec": {
   "display_name": "Python 3",
   "language": "python",
   "name": "python3"
  },
  "language_info": {
   "codemirror_mode": {
    "name": "ipython",
    "version": 3
   },
   "file_extension": ".py",
   "mimetype": "text/x-python",
   "name": "python",
   "nbconvert_exporter": "python",
   "pygments_lexer": "ipython3",
   "version": "3.7.1"
  }
 },
 "nbformat": 4,
 "nbformat_minor": 2
}
